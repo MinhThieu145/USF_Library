{
 "cells": [
  {
   "cell_type": "code",
   "execution_count": 2,
   "metadata": {},
   "outputs": [],
   "source": [
    "import numpy as np\n",
    "import pandas as pd\n",
    "import matplotlib.pyplot as plt\n",
    "import seaborn as sns"
   ]
  },
  {
   "cell_type": "code",
   "execution_count": 3,
   "metadata": {},
   "outputs": [],
   "source": [
    "df = pd.read_csv('modelling.csv')"
   ]
  },
  {
   "cell_type": "code",
   "execution_count": 4,
   "metadata": {},
   "outputs": [],
   "source": [
    "df = df.drop('Unnamed: 0', axis=1)"
   ]
  },
  {
   "cell_type": "code",
   "execution_count": 5,
   "metadata": {},
   "outputs": [
    {
     "data": {
      "text/html": [
       "<div>\n",
       "<style scoped>\n",
       "    .dataframe tbody tr th:only-of-type {\n",
       "        vertical-align: middle;\n",
       "    }\n",
       "\n",
       "    .dataframe tbody tr th {\n",
       "        vertical-align: top;\n",
       "    }\n",
       "\n",
       "    .dataframe thead th {\n",
       "        text-align: right;\n",
       "    }\n",
       "</style>\n",
       "<table border=\"1\" class=\"dataframe\">\n",
       "  <thead>\n",
       "    <tr style=\"text-align: right;\">\n",
       "      <th></th>\n",
       "      <th>checking_hour</th>\n",
       "      <th>hour</th>\n",
       "      <th>minute</th>\n",
       "      <th>day_of_week</th>\n",
       "      <th>room</th>\n",
       "      <th>status</th>\n",
       "    </tr>\n",
       "  </thead>\n",
       "  <tbody>\n",
       "    <tr>\n",
       "      <th>0</th>\n",
       "      <td>6</td>\n",
       "      <td>12</td>\n",
       "      <td>0</td>\n",
       "      <td>Monday</td>\n",
       "      <td>436</td>\n",
       "      <td>Unavailable</td>\n",
       "    </tr>\n",
       "    <tr>\n",
       "      <th>1</th>\n",
       "      <td>6</td>\n",
       "      <td>12</td>\n",
       "      <td>15</td>\n",
       "      <td>Monday</td>\n",
       "      <td>436</td>\n",
       "      <td>Unavailable</td>\n",
       "    </tr>\n",
       "    <tr>\n",
       "      <th>2</th>\n",
       "      <td>6</td>\n",
       "      <td>15</td>\n",
       "      <td>0</td>\n",
       "      <td>Monday</td>\n",
       "      <td>436</td>\n",
       "      <td>Unavailable</td>\n",
       "    </tr>\n",
       "    <tr>\n",
       "      <th>3</th>\n",
       "      <td>6</td>\n",
       "      <td>11</td>\n",
       "      <td>30</td>\n",
       "      <td>Monday</td>\n",
       "      <td>436</td>\n",
       "      <td>Unavailable</td>\n",
       "    </tr>\n",
       "    <tr>\n",
       "      <th>4</th>\n",
       "      <td>6</td>\n",
       "      <td>12</td>\n",
       "      <td>30</td>\n",
       "      <td>Monday</td>\n",
       "      <td>436</td>\n",
       "      <td>Unavailable</td>\n",
       "    </tr>\n",
       "    <tr>\n",
       "      <th>...</th>\n",
       "      <td>...</td>\n",
       "      <td>...</td>\n",
       "      <td>...</td>\n",
       "      <td>...</td>\n",
       "      <td>...</td>\n",
       "      <td>...</td>\n",
       "    </tr>\n",
       "    <tr>\n",
       "      <th>18412</th>\n",
       "      <td>12</td>\n",
       "      <td>21</td>\n",
       "      <td>0</td>\n",
       "      <td>Sunday</td>\n",
       "      <td>520D</td>\n",
       "      <td>Available</td>\n",
       "    </tr>\n",
       "    <tr>\n",
       "      <th>18413</th>\n",
       "      <td>12</td>\n",
       "      <td>21</td>\n",
       "      <td>15</td>\n",
       "      <td>Sunday</td>\n",
       "      <td>520D</td>\n",
       "      <td>Available</td>\n",
       "    </tr>\n",
       "    <tr>\n",
       "      <th>18414</th>\n",
       "      <td>12</td>\n",
       "      <td>21</td>\n",
       "      <td>30</td>\n",
       "      <td>Sunday</td>\n",
       "      <td>520D</td>\n",
       "      <td>Available</td>\n",
       "    </tr>\n",
       "    <tr>\n",
       "      <th>18415</th>\n",
       "      <td>12</td>\n",
       "      <td>19</td>\n",
       "      <td>15</td>\n",
       "      <td>Sunday</td>\n",
       "      <td>520D</td>\n",
       "      <td>Available</td>\n",
       "    </tr>\n",
       "    <tr>\n",
       "      <th>18416</th>\n",
       "      <td>12</td>\n",
       "      <td>22</td>\n",
       "      <td>0</td>\n",
       "      <td>Sunday</td>\n",
       "      <td>438</td>\n",
       "      <td>Available</td>\n",
       "    </tr>\n",
       "  </tbody>\n",
       "</table>\n",
       "<p>18417 rows × 6 columns</p>\n",
       "</div>"
      ],
      "text/plain": [
       "       checking_hour  hour  minute day_of_week  room       status\n",
       "0                  6    12       0      Monday   436  Unavailable\n",
       "1                  6    12      15      Monday   436  Unavailable\n",
       "2                  6    15       0      Monday   436  Unavailable\n",
       "3                  6    11      30      Monday   436  Unavailable\n",
       "4                  6    12      30      Monday   436  Unavailable\n",
       "...              ...   ...     ...         ...   ...          ...\n",
       "18412             12    21       0      Sunday  520D    Available\n",
       "18413             12    21      15      Sunday  520D    Available\n",
       "18414             12    21      30      Sunday  520D    Available\n",
       "18415             12    19      15      Sunday  520D    Available\n",
       "18416             12    22       0      Sunday   438    Available\n",
       "\n",
       "[18417 rows x 6 columns]"
      ]
     },
     "execution_count": 5,
     "metadata": {},
     "output_type": "execute_result"
    }
   ],
   "source": [
    "df"
   ]
  },
  {
   "cell_type": "code",
   "execution_count": 6,
   "metadata": {},
   "outputs": [
    {
     "data": {
      "text/plain": [
       "6     8673\n",
       "12    6048\n",
       "16    3696\n",
       "Name: checking_hour, dtype: int64"
      ]
     },
     "execution_count": 6,
     "metadata": {},
     "output_type": "execute_result"
    }
   ],
   "source": [
    "df.checking_hour.value_counts()"
   ]
  },
  {
   "cell_type": "code",
   "execution_count": 7,
   "metadata": {},
   "outputs": [
    {
     "data": {
      "text/plain": [
       "436     877\n",
       "442     877\n",
       "441     877\n",
       "514A    877\n",
       "520C    877\n",
       "520D    877\n",
       "514C    877\n",
       "514D    877\n",
       "520B    877\n",
       "520A    877\n",
       "356     877\n",
       "358     877\n",
       "257     877\n",
       "258     877\n",
       "305     877\n",
       "306     877\n",
       "438     877\n",
       "440     877\n",
       "357     877\n",
       "437     877\n",
       "514B    877\n",
       "Name: room, dtype: int64"
      ]
     },
     "execution_count": 7,
     "metadata": {},
     "output_type": "execute_result"
    }
   ],
   "source": [
    "df.room.value_counts()"
   ]
  },
  {
   "cell_type": "code",
   "execution_count": 8,
   "metadata": {},
   "outputs": [
    {
     "name": "stdout",
     "output_type": "stream",
     "text": [
      "<class 'pandas.core.frame.DataFrame'>\n",
      "RangeIndex: 18417 entries, 0 to 18416\n",
      "Data columns (total 6 columns):\n",
      " #   Column         Non-Null Count  Dtype \n",
      "---  ------         --------------  ----- \n",
      " 0   checking_hour  18417 non-null  int64 \n",
      " 1   hour           18417 non-null  int64 \n",
      " 2   minute         18417 non-null  int64 \n",
      " 3   day_of_week    18417 non-null  object\n",
      " 4   room           18417 non-null  object\n",
      " 5   status         18417 non-null  object\n",
      "dtypes: int64(3), object(3)\n",
      "memory usage: 863.4+ KB\n"
     ]
    }
   ],
   "source": [
    "df.info()"
   ]
  },
  {
   "cell_type": "code",
   "execution_count": 9,
   "metadata": {},
   "outputs": [],
   "source": [
    "df['status'] = df['status'].apply(lambda x: 0 if x=='Unavailable' else 1)"
   ]
  },
  {
   "cell_type": "code",
   "execution_count": 10,
   "metadata": {},
   "outputs": [],
   "source": [
    "from sklearn.model_selection import train_test_split\n",
    "X = df.drop('status', axis=1)\n",
    "y = df['status'].copy()\n",
    "X_train, X_test, y_train, y_test = train_test_split(X, y)"
   ]
  },
  {
   "cell_type": "code",
   "execution_count": 11,
   "metadata": {},
   "outputs": [],
   "source": [
    "from sklearn.preprocessing import OneHotEncoder\n",
    "encode = OneHotEncoder(drop = 'first')\n",
    "encode.fit(X_train)\n",
    "X_train = encode.transform(X_train)\n",
    "X_test = encode.transform(X_test)"
   ]
  },
  {
   "cell_type": "code",
   "execution_count": 12,
   "metadata": {},
   "outputs": [
    {
     "data": {
      "text/plain": [
       "array(['checking_hour_12', 'checking_hour_16', 'hour_7', 'hour_8',\n",
       "       'hour_9', 'hour_10', 'hour_11', 'hour_12', 'hour_13', 'hour_14',\n",
       "       'hour_15', 'hour_16', 'hour_17', 'hour_18', 'hour_19', 'hour_20',\n",
       "       'hour_21', 'hour_22', 'hour_23', 'minute_15', 'minute_30',\n",
       "       'minute_45', 'day_of_week_Monday', 'day_of_week_Saturday',\n",
       "       'day_of_week_Sunday', 'day_of_week_Thursday',\n",
       "       'day_of_week_Tuesday', 'day_of_week_Wednesday', 'room_258',\n",
       "       'room_305', 'room_306', 'room_356', 'room_357', 'room_358',\n",
       "       'room_436', 'room_437', 'room_438', 'room_440', 'room_441',\n",
       "       'room_442', 'room_514A', 'room_514B', 'room_514C', 'room_514D',\n",
       "       'room_520A', 'room_520B', 'room_520C', 'room_520D'], dtype=object)"
      ]
     },
     "execution_count": 12,
     "metadata": {},
     "output_type": "execute_result"
    }
   ],
   "source": [
    "encode.get_feature_names_out()"
   ]
  },
  {
   "cell_type": "code",
   "execution_count": 14,
   "metadata": {},
   "outputs": [
    {
     "name": "stdout",
     "output_type": "stream",
     "text": [
      "[[2585  176]\n",
      " [ 286 1558]]\n",
      "              precision    recall  f1-score   support\n",
      "\n",
      "           0       0.90      0.94      0.92      2761\n",
      "           1       0.90      0.84      0.87      1844\n",
      "\n",
      "    accuracy                           0.90      4605\n",
      "   macro avg       0.90      0.89      0.89      4605\n",
      "weighted avg       0.90      0.90      0.90      4605\n",
      "\n"
     ]
    }
   ],
   "source": [
    "from sklearn.ensemble import RandomForestClassifier\n",
    "from sklearn.metrics import confusion_matrix, classification_report\n",
    "rdc = RandomForestClassifier()\n",
    "rdc.fit(X_train, y_train)\n",
    "predictions = rdc.predict(X_test)\n",
    "print(confusion_matrix(y_test, predictions))\n",
    "print(classification_report(y_test, predictions))"
   ]
  },
  {
   "cell_type": "code",
   "execution_count": 16,
   "metadata": {},
   "outputs": [],
   "source": [
    "feature_importance = pd.DataFrame({\n",
    "    'features': encode.get_feature_names_out(),\n",
    "    'values': rdc.feature_importances_ }).sort_values(by='values', ascending=False)"
   ]
  },
  {
   "cell_type": "code",
   "execution_count": 17,
   "metadata": {},
   "outputs": [],
   "source": [
    "feature_importance_15 = feature_importance.head(15).sort_values(by='values', ascending=True)"
   ]
  },
  {
   "cell_type": "code",
   "execution_count": 18,
   "metadata": {},
   "outputs": [
    {
     "data": {
      "text/plain": [
       "<AxesSubplot:ylabel='features'>"
      ]
     },
     "execution_count": 18,
     "metadata": {},
     "output_type": "execute_result"
    },
    {
     "data": {
      "image/png": "[encoded data removed]",
      "text/plain": [
       "<Figure size 432x288 with 1 Axes>"
      ]
     },
     "metadata": {
      "needs_background": "light"
     },
     "output_type": "display_data"
    }
   ],
   "source": [
    "feature_importance_15.plot(kind='barh', x='features', y='values')"
   ]
  },
  {
   "cell_type": "markdown",
   "metadata": {},
   "source": [
    "# Train Dirty Models and Feature Engineering"
   ]
  },
  {
   "cell_type": "code",
   "execution_count": 66,
   "metadata": {},
   "outputs": [],
   "source": [
    "from sklearn.model_selection import train_test_split\n",
    "X = df.drop('status', axis=1)\n",
    "y = df['status']\n",
    "X_train, X_test, y_train, y_test = train_test_split(X, y)"
   ]
  },
  {
   "cell_type": "code",
   "execution_count": 20,
   "metadata": {},
   "outputs": [],
   "source": [
    "num = X_train.drop(['day_of_week', 'room'], axis=1)\n",
    "cat = X_train[['day_of_week', 'room']]"
   ]
  },
  {
   "cell_type": "code",
   "execution_count": null,
   "metadata": {},
   "outputs": [],
   "source": [
    "# Models Dictionary \n",
    "from sklearn.linear_model import LogisticRegression, SGDClassifier\n",
    "from sklearn.naive_bayes import GaussianNB\n",
    "from sklearn.neighbors import KNeighborsClassifier\n",
    "from sklearn.tree import DecisionTreeClassifier\n",
    "from sklearn.ensemble import RandomForestClassifier, AdaBoostClassifier\n",
    "from sklearn.svm import SVC\n",
    "from sklearn.ensemble import GradientBoostingClassifier\n",
    "from sklearn.discriminant_analysis import QuadraticDiscriminantAnalysis\n",
    "import xgboost as xgb\n",
    "\n",
    "model_dict = {\n",
    "    'Logreg': LogisticRegression(),\n",
    "    'sgd': SGDClassifier(),\n",
    "    'naive': GaussianNB(),\n",
    "    'knn': KNeighborsClassifier(),\n",
    "    'tree': DecisionTreeClassifier(),\n",
    "    'rfc': RandomForestClassifier(),\n",
    "    'adaboost': AdaBoostClassifier(),\n",
    "    'svm': SVC(),\n",
    "    'gbc': GradientBoostingClassifier(),\n",
    "    'quadra': QuadraticDiscriminantAnalysis(),\n",
    "    'xgb': xgb.XGBClassifier(objective=\"binary:logistic\")\n",
    "}"
   ]
  },
  {
   "cell_type": "code",
   "execution_count": null,
   "metadata": {},
   "outputs": [],
   "source": [
    "def train_and_score(model_dict, X, y, scoring=None, save_model = False):\n",
    "    \"\"\"Train model in a model dictionary, calculate the score and return a datafame.\n",
    "    Parameters\n",
    "    --------\n",
    "    model_dict: dict\n",
    "        A dictionary with the key containing the name of the model and the values \n",
    "        containining the model\n",
    "    X : {array-like, sparse matrix} of shape (n_samples, n_features)\n",
    "        The training input samples. Internally, its dtype will be converted to `dtype=np.float32`. \n",
    "        If a sparse matrix is provided, it will be converted into a sparse `csc_matrix`.\n",
    "    y : array-like of shape (n_samples,) or (n_samples, n_outputs)\n",
    "        The target values (class labels in classification, real numbers in regression).\n",
    "    scoring: default = `neg_mean_squared_error`\n",
    "        The scoring method\n",
    "    save_model: default = False\n",
    "        If True, the model is saved to a pickle file\n",
    "    Return \n",
    "    --------\n",
    "    score_df: `pd.DataFrame`\n",
    "        This dataframe containing columns of model, mean score, and standard deviation    \n",
    "    \"\"\"\n",
    "    from sklearn.model_selection import cross_val_score\n",
    "    score_df = pd.DataFrame(columns=['Model', 'Score', 'Std'])\n",
    "    for name, model in model_dict.items():\n",
    "        # Train the model\n",
    "        model.fit(X, y)\n",
    "        # Calculate the score\n",
    "        if scoring == None:\n",
    "            scores = cross_val_score(model, X, y, scoring='neg_mean_squared_error') \n",
    "            scores = np.sqrt(-scores)\n",
    "        else:\n",
    "            scores = cross_val_score(model, X, y, scoring=scoring)       \n",
    "        \n",
    "        # Add the score to the score_df\n",
    "        adding_df = pd.DataFrame({'Model': [name], 'Score': [scores.mean()], 'Std':[scores.std()]})\n",
    "        score_df = pd.concat([score_df, adding_df])  \n",
    "        # Print information      \n",
    "        print('{}:'.format(name))\n",
    "        print(\"Scores:\", scores)\n",
    "        print(\"Mean:\", scores.mean())\n",
    "        print(\"Standard deviation:\", scores.std())\n",
    "        print('---------------------')\n",
    "        # Save the results\n",
    "        if save_model == True:\n",
    "            import pickle\n",
    "            with open(f'{name}_baseline.pkl','wb') as f:\n",
    "                pickle.dump(model,f)\n",
    "        \n",
    "    # Sort the dataset and reset the index\n",
    "    score_df = score_df.sort_values(by='Score').reset_index(drop=True)\n",
    "    # Return the result\n",
    "    return score_df"
   ]
  },
  {
   "cell_type": "markdown",
   "metadata": {},
   "source": [
    "# With Polynomial Features"
   ]
  },
  {
   "cell_type": "code",
   "execution_count": 21,
   "metadata": {},
   "outputs": [],
   "source": [
    "from sklearn.pipeline import Pipeline\n",
    "from sklearn.preprocessing import PolynomialFeatures, StandardScaler, OneHotEncoder\n",
    "num_pipeline = Pipeline([\n",
    "    ('poly', PolynomialFeatures()),\n",
    "    ('scale', StandardScaler())\n",
    "])\n",
    "\n",
    "cat_pipeline = Pipeline([\n",
    "    ('encode', OneHotEncoder())\n",
    "])\n",
    "\n",
    "from sklearn.compose import ColumnTransformer\n",
    "num_attribs = list(num)\n",
    "cat_attribs = ['day_of_week', 'room']\n",
    "full_pipeline = ColumnTransformer([\n",
    "    ('num', num_pipeline, num_attribs),\n",
    "    ('cat', cat_pipeline, cat_attribs)\n",
    "])"
   ]
  },
  {
   "cell_type": "code",
   "execution_count": 22,
   "metadata": {},
   "outputs": [],
   "source": [
    "X_train_prepared = full_pipeline.fit_transform(X_train)"
   ]
  },
  {
   "cell_type": "code",
   "execution_count": 25,
   "metadata": {},
   "outputs": [
    {
     "name": "stderr",
     "output_type": "stream",
     "text": [
      "c:\\Users\\Kha Do\\anaconda3\\lib\\site-packages\\sklearn\\linear_model\\_logistic.py:444: ConvergenceWarning: lbfgs failed to converge (status=1):\n",
      "STOP: TOTAL NO. of ITERATIONS REACHED LIMIT.\n",
      "\n",
      "Increase the number of iterations (max_iter) or scale the data as shown in:\n",
      "    https://scikit-learn.org/stable/modules/preprocessing.html\n",
      "Please also refer to the documentation for alternative solver options:\n",
      "    https://scikit-learn.org/stable/modules/linear_model.html#logistic-regression\n",
      "  n_iter_i = _check_optimize_result(\n",
      "c:\\Users\\Kha Do\\anaconda3\\lib\\site-packages\\sklearn\\linear_model\\_logistic.py:444: ConvergenceWarning: lbfgs failed to converge (status=1):\n",
      "STOP: TOTAL NO. of ITERATIONS REACHED LIMIT.\n",
      "\n",
      "Increase the number of iterations (max_iter) or scale the data as shown in:\n",
      "    https://scikit-learn.org/stable/modules/preprocessing.html\n",
      "Please also refer to the documentation for alternative solver options:\n",
      "    https://scikit-learn.org/stable/modules/linear_model.html#logistic-regression\n",
      "  n_iter_i = _check_optimize_result(\n",
      "c:\\Users\\Kha Do\\anaconda3\\lib\\site-packages\\sklearn\\linear_model\\_logistic.py:444: ConvergenceWarning: lbfgs failed to converge (status=1):\n",
      "STOP: TOTAL NO. of ITERATIONS REACHED LIMIT.\n",
      "\n",
      "Increase the number of iterations (max_iter) or scale the data as shown in:\n",
      "    https://scikit-learn.org/stable/modules/preprocessing.html\n",
      "Please also refer to the documentation for alternative solver options:\n",
      "    https://scikit-learn.org/stable/modules/linear_model.html#logistic-regression\n",
      "  n_iter_i = _check_optimize_result(\n",
      "c:\\Users\\Kha Do\\anaconda3\\lib\\site-packages\\sklearn\\linear_model\\_logistic.py:444: ConvergenceWarning: lbfgs failed to converge (status=1):\n",
      "STOP: TOTAL NO. of ITERATIONS REACHED LIMIT.\n",
      "\n",
      "Increase the number of iterations (max_iter) or scale the data as shown in:\n",
      "    https://scikit-learn.org/stable/modules/preprocessing.html\n",
      "Please also refer to the documentation for alternative solver options:\n",
      "    https://scikit-learn.org/stable/modules/linear_model.html#logistic-regression\n",
      "  n_iter_i = _check_optimize_result(\n"
     ]
    },
    {
     "name": "stdout",
     "output_type": "stream",
     "text": [
      "Logreg:\n",
      "Scores: [0.85378212 0.84147666 0.84902245 0.8410572  0.83852281]\n",
      "Mean: 0.8447722477352142\n",
      "Standard deviation: 0.005708939638116235\n",
      "---------------------\n",
      "sgd:\n",
      "Scores: [0.84328628 0.83460007 0.82766112 0.83671253 0.82476466]\n",
      "Mean: 0.8334049321972911\n",
      "Standard deviation: 0.006597807513904963\n",
      "---------------------\n",
      "naive:\n",
      "Scores: [0.7567861  0.76112921 0.76466329 0.76828385 0.75887038]\n",
      "Mean: 0.761946566595985\n",
      "Standard deviation: 0.00410616933827429\n",
      "---------------------\n",
      "knn:\n",
      "Scores: [0.83279045 0.83821933 0.83454019 0.83562636 0.82983345]\n",
      "Mean: 0.8342019543973942\n",
      "Standard deviation: 0.0028056643415382073\n",
      "---------------------\n",
      "tree:\n",
      "Scores: [0.91060442 0.91349982 0.90658943 0.9160029  0.90984794]\n",
      "Mean: 0.9113088990416708\n",
      "Standard deviation: 0.0032167641742125276\n",
      "---------------------\n",
      "rfc:\n",
      "Scores: [0.90626131 0.90662324 0.90007241 0.89790007 0.90007241]\n",
      "Mean: 0.9021858881574378\n",
      "Standard deviation: 0.0035665362054239655\n",
      "---------------------\n",
      "adaboost:\n",
      "Scores: [0.85559175 0.84762939 0.84286749 0.84069515 0.84395366]\n",
      "Mean: 0.8461474857975058\n",
      "Standard deviation: 0.00522856355005575\n",
      "---------------------\n",
      "svm:\n",
      "Scores: [0.87187839 0.86970684 0.86278059 0.86060825 0.86459088]\n",
      "Mean: 0.865912991655797\n",
      "Standard deviation: 0.004235078276671654\n",
      "---------------------\n",
      "gbc:\n",
      "Scores: [0.87043069 0.86319218 0.86133237 0.85517741 0.85372918]\n",
      "Mean: 0.8607723661930711\n",
      "Standard deviation: 0.006006036358488611\n",
      "---------------------\n",
      "quadra:\n",
      "Scores: [0.82410423 0.82084691 0.82404055 0.8352643  0.83091962]\n",
      "Mean: 0.8270351230166499\n",
      "Standard deviation: 0.005266124310962498\n",
      "---------------------\n"
     ]
    },
    {
     "name": "stderr",
     "output_type": "stream",
     "text": [
      "c:\\Users\\Kha Do\\anaconda3\\lib\\site-packages\\sklearn\\discriminant_analysis.py:887: UserWarning: Variables are collinear\n",
      "  warnings.warn(\"Variables are collinear\")\n",
      "c:\\Users\\Kha Do\\anaconda3\\lib\\site-packages\\sklearn\\discriminant_analysis.py:887: UserWarning: Variables are collinear\n",
      "  warnings.warn(\"Variables are collinear\")\n",
      "c:\\Users\\Kha Do\\anaconda3\\lib\\site-packages\\sklearn\\discriminant_analysis.py:887: UserWarning: Variables are collinear\n",
      "  warnings.warn(\"Variables are collinear\")\n",
      "c:\\Users\\Kha Do\\anaconda3\\lib\\site-packages\\sklearn\\discriminant_analysis.py:887: UserWarning: Variables are collinear\n",
      "  warnings.warn(\"Variables are collinear\")\n",
      "c:\\Users\\Kha Do\\anaconda3\\lib\\site-packages\\sklearn\\discriminant_analysis.py:887: UserWarning: Variables are collinear\n",
      "  warnings.warn(\"Variables are collinear\")\n",
      "c:\\Users\\Kha Do\\anaconda3\\lib\\site-packages\\sklearn\\discriminant_analysis.py:887: UserWarning: Variables are collinear\n",
      "  warnings.warn(\"Variables are collinear\")\n"
     ]
    },
    {
     "name": "stdout",
     "output_type": "stream",
     "text": [
      "xgb:\n",
      "Scores: [0.91494752 0.91965255 0.91527878 0.9275887  0.91636495]\n",
      "Mean: 0.9187665025291538\n",
      "Standard deviation: 0.004714500286679822\n",
      "---------------------\n"
     ]
    }
   ],
   "source": [
    "score_df_poly = train_and_score(model_dict, X_train_prepared, y_train, scoring='accuracy')"
   ]
  },
  {
   "cell_type": "code",
   "execution_count": 26,
   "metadata": {},
   "outputs": [
    {
     "data": {
      "text/html": [
       "<div>\n",
       "<style scoped>\n",
       "    .dataframe tbody tr th:only-of-type {\n",
       "        vertical-align: middle;\n",
       "    }\n",
       "\n",
       "    .dataframe tbody tr th {\n",
       "        vertical-align: top;\n",
       "    }\n",
       "\n",
       "    .dataframe thead th {\n",
       "        text-align: right;\n",
       "    }\n",
       "</style>\n",
       "<table border=\"1\" class=\"dataframe\">\n",
       "  <thead>\n",
       "    <tr style=\"text-align: right;\">\n",
       "      <th></th>\n",
       "      <th>Model</th>\n",
       "      <th>Score</th>\n",
       "      <th>Std</th>\n",
       "    </tr>\n",
       "  </thead>\n",
       "  <tbody>\n",
       "    <tr>\n",
       "      <th>0</th>\n",
       "      <td>naive</td>\n",
       "      <td>0.761947</td>\n",
       "      <td>0.004106</td>\n",
       "    </tr>\n",
       "    <tr>\n",
       "      <th>1</th>\n",
       "      <td>quadra</td>\n",
       "      <td>0.827035</td>\n",
       "      <td>0.005266</td>\n",
       "    </tr>\n",
       "    <tr>\n",
       "      <th>2</th>\n",
       "      <td>sgd</td>\n",
       "      <td>0.833405</td>\n",
       "      <td>0.006598</td>\n",
       "    </tr>\n",
       "    <tr>\n",
       "      <th>3</th>\n",
       "      <td>knn</td>\n",
       "      <td>0.834202</td>\n",
       "      <td>0.002806</td>\n",
       "    </tr>\n",
       "    <tr>\n",
       "      <th>4</th>\n",
       "      <td>Logreg</td>\n",
       "      <td>0.844772</td>\n",
       "      <td>0.005709</td>\n",
       "    </tr>\n",
       "    <tr>\n",
       "      <th>5</th>\n",
       "      <td>adaboost</td>\n",
       "      <td>0.846147</td>\n",
       "      <td>0.005229</td>\n",
       "    </tr>\n",
       "    <tr>\n",
       "      <th>6</th>\n",
       "      <td>gbc</td>\n",
       "      <td>0.860772</td>\n",
       "      <td>0.006006</td>\n",
       "    </tr>\n",
       "    <tr>\n",
       "      <th>7</th>\n",
       "      <td>svm</td>\n",
       "      <td>0.865913</td>\n",
       "      <td>0.004235</td>\n",
       "    </tr>\n",
       "    <tr>\n",
       "      <th>8</th>\n",
       "      <td>rfc</td>\n",
       "      <td>0.902186</td>\n",
       "      <td>0.003567</td>\n",
       "    </tr>\n",
       "    <tr>\n",
       "      <th>9</th>\n",
       "      <td>tree</td>\n",
       "      <td>0.911309</td>\n",
       "      <td>0.003217</td>\n",
       "    </tr>\n",
       "    <tr>\n",
       "      <th>10</th>\n",
       "      <td>xgb</td>\n",
       "      <td>0.918767</td>\n",
       "      <td>0.004715</td>\n",
       "    </tr>\n",
       "  </tbody>\n",
       "</table>\n",
       "</div>"
      ],
      "text/plain": [
       "       Model     Score       Std\n",
       "0      naive  0.761947  0.004106\n",
       "1     quadra  0.827035  0.005266\n",
       "2        sgd  0.833405  0.006598\n",
       "3        knn  0.834202  0.002806\n",
       "4     Logreg  0.844772  0.005709\n",
       "5   adaboost  0.846147  0.005229\n",
       "6        gbc  0.860772  0.006006\n",
       "7        svm  0.865913  0.004235\n",
       "8        rfc  0.902186  0.003567\n",
       "9       tree  0.911309  0.003217\n",
       "10       xgb  0.918767  0.004715"
      ]
     },
     "execution_count": 26,
     "metadata": {},
     "output_type": "execute_result"
    }
   ],
   "source": [
    "score_df_poly"
   ]
  },
  {
   "cell_type": "code",
   "execution_count": 27,
   "metadata": {},
   "outputs": [
    {
     "data": {
      "text/plain": [
       "<AxesSubplot:ylabel='Model'>"
      ]
     },
     "execution_count": 27,
     "metadata": {},
     "output_type": "execute_result"
    },
    {
     "data": {
      "image/png": "[encoded data removed]",
      "text/plain": [
       "<Figure size 432x288 with 1 Axes>"
      ]
     },
     "metadata": {
      "needs_background": "light"
     },
     "output_type": "display_data"
    }
   ],
   "source": [
    "score_df_poly.plot(kind='barh', x='Model', y='Score')"
   ]
  },
  {
   "cell_type": "markdown",
   "metadata": {},
   "source": [
    "# Without polynomial features"
   ]
  },
  {
   "cell_type": "code",
   "execution_count": 28,
   "metadata": {},
   "outputs": [],
   "source": [
    "num_pipeline = Pipeline([\n",
    "    # ('poly', PolynomialFeatures()),\n",
    "    ('scale', StandardScaler())\n",
    "])\n",
    "\n",
    "cat_pipeline = Pipeline([\n",
    "    ('encode', OneHotEncoder())\n",
    "])\n",
    "\n",
    "from sklearn.compose import ColumnTransformer\n",
    "num_attribs = list(num)\n",
    "cat_attribs = ['day_of_week', 'room']\n",
    "full_pipeline = ColumnTransformer([\n",
    "    ('num', num_pipeline, num_attribs),\n",
    "    ('cat', cat_pipeline, cat_attribs)\n",
    "])"
   ]
  },
  {
   "cell_type": "code",
   "execution_count": 29,
   "metadata": {},
   "outputs": [],
   "source": [
    "X_train_prepared = full_pipeline.fit_transform(X_train).toarray()"
   ]
  },
  {
   "cell_type": "code",
   "execution_count": 30,
   "metadata": {},
   "outputs": [
    {
     "name": "stdout",
     "output_type": "stream",
     "text": [
      "Logreg:\n",
      "Scores: [0.71335505 0.70865002 0.70745836 0.70999276 0.70745836]\n",
      "Mean: 0.7093829105672008\n",
      "Standard deviation: 0.0021952080418471743\n",
      "---------------------\n",
      "sgd:\n",
      "Scores: [0.71950778 0.71045965 0.70637219 0.71578566 0.70456191]\n",
      "Mean: 0.7113374389987899\n",
      "Standard deviation: 0.00561913049433872\n",
      "---------------------\n",
      "naive:\n",
      "Scores: [0.72891784 0.74665219 0.73678494 0.74692252 0.73062998]\n",
      "Mean: 0.7379814938426812\n",
      "Standard deviation: 0.007651786808984747\n",
      "---------------------\n",
      "knn:\n",
      "Scores: [0.86608759 0.86681144 0.85590152 0.86133237 0.86350471]\n",
      "Mean: 0.8627275236044316\n",
      "Standard deviation: 0.0039271657991489795\n",
      "---------------------\n",
      "tree:\n",
      "Scores: [0.91965255 0.92073833 0.91708907 0.92831282 0.9192614 ]\n",
      "Mean: 0.9210108333903346\n",
      "Standard deviation: 0.00383872143289222\n",
      "---------------------\n",
      "rfc:\n",
      "Scores: [0.92435758 0.92833876 0.92795076 0.92867487 0.93193338]\n",
      "Mean: 0.9282510719518788\n",
      "Standard deviation: 0.002408159047838222\n",
      "---------------------\n",
      "adaboost:\n",
      "Scores: [0.8577633  0.84183858 0.84540188 0.83635047 0.84214337]\n",
      "Mean: 0.8446995219491663\n",
      "Standard deviation: 0.007149561619792098\n",
      "---------------------\n",
      "svm:\n",
      "Scores: [0.88961274 0.89395585 0.8884866  0.88559015 0.88088342]\n",
      "Mean: 0.8877057517317255\n",
      "Standard deviation: 0.004343500952839376\n",
      "---------------------\n",
      "gbc:\n",
      "Scores: [0.87260224 0.86463988 0.85988414 0.85445329 0.85626358]\n",
      "Mean: 0.8615686283759507\n",
      "Standard deviation: 0.0065235315768861915\n",
      "---------------------\n",
      "quadra:\n",
      "Scores: [0.72566051 0.69779225 0.75162925 0.72194062 0.71832006]\n",
      "Mean: 0.7230685407118951\n",
      "Standard deviation: 0.017234521144967214\n",
      "---------------------\n"
     ]
    },
    {
     "name": "stderr",
     "output_type": "stream",
     "text": [
      "c:\\Users\\Kha Do\\anaconda3\\lib\\site-packages\\sklearn\\discriminant_analysis.py:887: UserWarning: Variables are collinear\n",
      "  warnings.warn(\"Variables are collinear\")\n",
      "c:\\Users\\Kha Do\\anaconda3\\lib\\site-packages\\sklearn\\discriminant_analysis.py:887: UserWarning: Variables are collinear\n",
      "  warnings.warn(\"Variables are collinear\")\n",
      "c:\\Users\\Kha Do\\anaconda3\\lib\\site-packages\\sklearn\\discriminant_analysis.py:887: UserWarning: Variables are collinear\n",
      "  warnings.warn(\"Variables are collinear\")\n",
      "c:\\Users\\Kha Do\\anaconda3\\lib\\site-packages\\sklearn\\discriminant_analysis.py:887: UserWarning: Variables are collinear\n",
      "  warnings.warn(\"Variables are collinear\")\n",
      "c:\\Users\\Kha Do\\anaconda3\\lib\\site-packages\\sklearn\\discriminant_analysis.py:887: UserWarning: Variables are collinear\n",
      "  warnings.warn(\"Variables are collinear\")\n",
      "c:\\Users\\Kha Do\\anaconda3\\lib\\site-packages\\sklearn\\discriminant_analysis.py:887: UserWarning: Variables are collinear\n",
      "  warnings.warn(\"Variables are collinear\")\n"
     ]
    },
    {
     "name": "stdout",
     "output_type": "stream",
     "text": [
      "xgb:\n",
      "Scores: [0.91929063 0.92761491 0.91708907 0.92686459 0.91310644]\n",
      "Mean: 0.9207931277670196\n",
      "Standard deviation: 0.005629601740681039\n",
      "---------------------\n"
     ]
    }
   ],
   "source": [
    "score_df = train_and_score(model_dict, X_train_prepared, y_train, scoring='accuracy')"
   ]
  },
  {
   "cell_type": "code",
   "execution_count": 31,
   "metadata": {},
   "outputs": [
    {
     "data": {
      "text/html": [
       "<div>\n",
       "<style scoped>\n",
       "    .dataframe tbody tr th:only-of-type {\n",
       "        vertical-align: middle;\n",
       "    }\n",
       "\n",
       "    .dataframe tbody tr th {\n",
       "        vertical-align: top;\n",
       "    }\n",
       "\n",
       "    .dataframe thead th {\n",
       "        text-align: right;\n",
       "    }\n",
       "</style>\n",
       "<table border=\"1\" class=\"dataframe\">\n",
       "  <thead>\n",
       "    <tr style=\"text-align: right;\">\n",
       "      <th></th>\n",
       "      <th>Model</th>\n",
       "      <th>Score</th>\n",
       "      <th>Std</th>\n",
       "    </tr>\n",
       "  </thead>\n",
       "  <tbody>\n",
       "    <tr>\n",
       "      <th>0</th>\n",
       "      <td>Logreg</td>\n",
       "      <td>0.709383</td>\n",
       "      <td>0.002195</td>\n",
       "    </tr>\n",
       "    <tr>\n",
       "      <th>1</th>\n",
       "      <td>sgd</td>\n",
       "      <td>0.711337</td>\n",
       "      <td>0.005619</td>\n",
       "    </tr>\n",
       "    <tr>\n",
       "      <th>2</th>\n",
       "      <td>quadra</td>\n",
       "      <td>0.723069</td>\n",
       "      <td>0.017235</td>\n",
       "    </tr>\n",
       "    <tr>\n",
       "      <th>3</th>\n",
       "      <td>naive</td>\n",
       "      <td>0.737981</td>\n",
       "      <td>0.007652</td>\n",
       "    </tr>\n",
       "    <tr>\n",
       "      <th>4</th>\n",
       "      <td>adaboost</td>\n",
       "      <td>0.844700</td>\n",
       "      <td>0.007150</td>\n",
       "    </tr>\n",
       "    <tr>\n",
       "      <th>5</th>\n",
       "      <td>gbc</td>\n",
       "      <td>0.861569</td>\n",
       "      <td>0.006524</td>\n",
       "    </tr>\n",
       "    <tr>\n",
       "      <th>6</th>\n",
       "      <td>knn</td>\n",
       "      <td>0.862728</td>\n",
       "      <td>0.003927</td>\n",
       "    </tr>\n",
       "    <tr>\n",
       "      <th>7</th>\n",
       "      <td>svm</td>\n",
       "      <td>0.887706</td>\n",
       "      <td>0.004344</td>\n",
       "    </tr>\n",
       "    <tr>\n",
       "      <th>8</th>\n",
       "      <td>xgb</td>\n",
       "      <td>0.920793</td>\n",
       "      <td>0.005630</td>\n",
       "    </tr>\n",
       "    <tr>\n",
       "      <th>9</th>\n",
       "      <td>tree</td>\n",
       "      <td>0.921011</td>\n",
       "      <td>0.003839</td>\n",
       "    </tr>\n",
       "    <tr>\n",
       "      <th>10</th>\n",
       "      <td>rfc</td>\n",
       "      <td>0.928251</td>\n",
       "      <td>0.002408</td>\n",
       "    </tr>\n",
       "  </tbody>\n",
       "</table>\n",
       "</div>"
      ],
      "text/plain": [
       "       Model     Score       Std\n",
       "0     Logreg  0.709383  0.002195\n",
       "1        sgd  0.711337  0.005619\n",
       "2     quadra  0.723069  0.017235\n",
       "3      naive  0.737981  0.007652\n",
       "4   adaboost  0.844700  0.007150\n",
       "5        gbc  0.861569  0.006524\n",
       "6        knn  0.862728  0.003927\n",
       "7        svm  0.887706  0.004344\n",
       "8        xgb  0.920793  0.005630\n",
       "9       tree  0.921011  0.003839\n",
       "10       rfc  0.928251  0.002408"
      ]
     },
     "execution_count": 31,
     "metadata": {},
     "output_type": "execute_result"
    }
   ],
   "source": [
    "score_df"
   ]
  },
  {
   "cell_type": "code",
   "execution_count": 32,
   "metadata": {},
   "outputs": [
    {
     "data": {
      "text/plain": [
       "<AxesSubplot:ylabel='Model'>"
      ]
     },
     "execution_count": 32,
     "metadata": {},
     "output_type": "execute_result"
    },
    {
     "data": {
      "image/png": "[encoded data removed]",
      "text/plain": [
       "<Figure size 432x288 with 1 Axes>"
      ]
     },
     "metadata": {
      "needs_background": "light"
     },
     "output_type": "display_data"
    }
   ],
   "source": [
    "score_df.plot(kind='barh', x='Model', y='Score')"
   ]
  },
  {
   "cell_type": "markdown",
   "metadata": {},
   "source": [
    "The 3 most promising models are rfc, xgb, and tree. Polynomial features do not work"
   ]
  },
  {
   "cell_type": "markdown",
   "metadata": {},
   "source": [
    "# With Floors"
   ]
  },
  {
   "cell_type": "code",
   "execution_count": 102,
   "metadata": {},
   "outputs": [],
   "source": [
    "from sklearn.base import BaseEstimator, TransformerMixin\n",
    "class AddFloors(BaseEstimator, TransformerMixin):\n",
    "    # def __init__(self, add_floors = True):\n",
    "    #     self.add_floors = add_floors\n",
    "    def fit(self, X, y=None):\n",
    "        return self\n",
    "    def transform(self, X):\n",
    "        X['room'] = X['room'].astype(str)\n",
    "        X['floor'] = X['room'].apply(lambda x: list(x)[0])\n",
    "        return X.astype(str)"
   ]
  },
  {
   "cell_type": "code",
   "execution_count": 103,
   "metadata": {},
   "outputs": [],
   "source": [
    "num_pipeline = Pipeline([\n",
    "    # ('poly', PolynomialFeatures()),\n",
    "    ('scale', StandardScaler())\n",
    "])\n",
    "\n",
    "cat_pipeline = Pipeline([\n",
    "    ('floors', AddFloors()),\n",
    "    ('encode', OneHotEncoder(drop='first'))\n",
    "])\n",
    "\n",
    "from sklearn.compose import ColumnTransformer\n",
    "num_attribs = list(num)\n",
    "cat_attribs = ['day_of_week', 'room']\n",
    "full_pipeline = ColumnTransformer([\n",
    "    ('num', num_pipeline, num_attribs),\n",
    "    ('cat', cat_pipeline, cat_attribs)\n",
    "])"
   ]
  },
  {
   "cell_type": "code",
   "execution_count": 104,
   "metadata": {},
   "outputs": [],
   "source": [
    "X_train_prepared = full_pipeline.fit_transform(X_train).toarray()"
   ]
  },
  {
   "cell_type": "code",
   "execution_count": 105,
   "metadata": {},
   "outputs": [
    {
     "name": "stdout",
     "output_type": "stream",
     "text": [
      "Logreg:\n",
      "Scores: [0.71299312 0.70285921 0.71542361 0.70926865 0.71433744]\n",
      "Mean: 0.7109764046101071\n",
      "Standard deviation: 0.004559529884373029\n",
      "---------------------\n",
      "sgd:\n",
      "Scores: [0.70466884 0.70647847 0.71469949 0.70347574 0.71542361]\n",
      "Mean: 0.7089492290149417\n",
      "Standard deviation: 0.005086621107735262\n",
      "---------------------\n",
      "naive:\n",
      "Scores: [0.71371697 0.71625045 0.72990587 0.71578566 0.71578566]\n",
      "Mean: 0.7182889234303614\n",
      "Standard deviation: 0.005874419998973859\n",
      "---------------------\n",
      "knn:\n",
      "Scores: [0.86391603 0.86210641 0.86097031 0.87219406 0.86314265]\n",
      "Mean: 0.8644658926546432\n",
      "Standard deviation: 0.0039890897921284665\n",
      "---------------------\n",
      "tree:\n",
      "Scores: [0.91205212 0.92073833 0.9134685  0.90224475 0.90731354]\n",
      "Mean: 0.9111634474695751\n",
      "Standard deviation: 0.0061991335417887275\n",
      "---------------------\n",
      "rfc:\n",
      "Scores: [0.92363373 0.92508143 0.9217958  0.9192614  0.91564084]\n",
      "Mean: 0.921082641914216\n",
      "Standard deviation: 0.0033447600070683273\n",
      "---------------------\n",
      "adaboost:\n",
      "Scores: [0.83460007 0.84111473 0.84974656 0.81969587 0.83743664]\n",
      "Mean: 0.8365187751772085\n",
      "Standard deviation: 0.009834948466772901\n",
      "---------------------\n",
      "svm:\n",
      "Scores: [0.87151647 0.87441187 0.88595221 0.87038378 0.87038378]\n",
      "Mean: 0.8745296214092135\n",
      "Standard deviation: 0.0058982109484208775\n",
      "---------------------\n",
      "gbc:\n",
      "Scores: [0.84762939 0.85088672 0.87110789 0.84866039 0.85083273]\n",
      "Mean: 0.8538234238880751\n",
      "Standard deviation: 0.008733204992424479\n",
      "---------------------\n",
      "quadra:\n",
      "Scores: [0.73470865 0.72529859 0.72990587 0.72737147 0.67161477]\n",
      "Mean: 0.7177798691355172\n",
      "Standard deviation: 0.023295362434553907\n",
      "---------------------\n"
     ]
    },
    {
     "name": "stderr",
     "output_type": "stream",
     "text": [
      "c:\\Users\\Kha Do\\anaconda3\\lib\\site-packages\\sklearn\\discriminant_analysis.py:887: UserWarning: Variables are collinear\n",
      "  warnings.warn(\"Variables are collinear\")\n",
      "c:\\Users\\Kha Do\\anaconda3\\lib\\site-packages\\sklearn\\discriminant_analysis.py:887: UserWarning: Variables are collinear\n",
      "  warnings.warn(\"Variables are collinear\")\n",
      "c:\\Users\\Kha Do\\anaconda3\\lib\\site-packages\\sklearn\\discriminant_analysis.py:887: UserWarning: Variables are collinear\n",
      "  warnings.warn(\"Variables are collinear\")\n",
      "c:\\Users\\Kha Do\\anaconda3\\lib\\site-packages\\sklearn\\discriminant_analysis.py:887: UserWarning: Variables are collinear\n",
      "  warnings.warn(\"Variables are collinear\")\n",
      "c:\\Users\\Kha Do\\anaconda3\\lib\\site-packages\\sklearn\\discriminant_analysis.py:887: UserWarning: Variables are collinear\n",
      "  warnings.warn(\"Variables are collinear\")\n",
      "c:\\Users\\Kha Do\\anaconda3\\lib\\site-packages\\sklearn\\discriminant_analysis.py:887: UserWarning: Variables are collinear\n",
      "  warnings.warn(\"Variables are collinear\")\n"
     ]
    },
    {
     "name": "stdout",
     "output_type": "stream",
     "text": [
      "xgb:\n",
      "Scores: [0.91929063 0.92254796 0.91708907 0.90803765 0.91672701]\n",
      "Mean: 0.9167384620868029\n",
      "Standard deviation: 0.00481852401416152\n",
      "---------------------\n"
     ]
    }
   ],
   "source": [
    "score_df_floor = train_and_score(model_dict, X_train_prepared, y_train, scoring='accuracy')"
   ]
  },
  {
   "cell_type": "code",
   "execution_count": 108,
   "metadata": {},
   "outputs": [
    {
     "data": {
      "text/html": [
       "<div>\n",
       "<style scoped>\n",
       "    .dataframe tbody tr th:only-of-type {\n",
       "        vertical-align: middle;\n",
       "    }\n",
       "\n",
       "    .dataframe tbody tr th {\n",
       "        vertical-align: top;\n",
       "    }\n",
       "\n",
       "    .dataframe thead th {\n",
       "        text-align: right;\n",
       "    }\n",
       "</style>\n",
       "<table border=\"1\" class=\"dataframe\">\n",
       "  <thead>\n",
       "    <tr style=\"text-align: right;\">\n",
       "      <th></th>\n",
       "      <th>Model</th>\n",
       "      <th>Score</th>\n",
       "      <th>Std</th>\n",
       "    </tr>\n",
       "  </thead>\n",
       "  <tbody>\n",
       "    <tr>\n",
       "      <th>0</th>\n",
       "      <td>sgd</td>\n",
       "      <td>0.708949</td>\n",
       "      <td>0.005087</td>\n",
       "    </tr>\n",
       "    <tr>\n",
       "      <th>1</th>\n",
       "      <td>Logreg</td>\n",
       "      <td>0.710976</td>\n",
       "      <td>0.004560</td>\n",
       "    </tr>\n",
       "    <tr>\n",
       "      <th>2</th>\n",
       "      <td>quadra</td>\n",
       "      <td>0.717780</td>\n",
       "      <td>0.023295</td>\n",
       "    </tr>\n",
       "    <tr>\n",
       "      <th>3</th>\n",
       "      <td>naive</td>\n",
       "      <td>0.718289</td>\n",
       "      <td>0.005874</td>\n",
       "    </tr>\n",
       "    <tr>\n",
       "      <th>4</th>\n",
       "      <td>adaboost</td>\n",
       "      <td>0.836519</td>\n",
       "      <td>0.009835</td>\n",
       "    </tr>\n",
       "    <tr>\n",
       "      <th>5</th>\n",
       "      <td>gbc</td>\n",
       "      <td>0.853823</td>\n",
       "      <td>0.008733</td>\n",
       "    </tr>\n",
       "    <tr>\n",
       "      <th>6</th>\n",
       "      <td>knn</td>\n",
       "      <td>0.864466</td>\n",
       "      <td>0.003989</td>\n",
       "    </tr>\n",
       "    <tr>\n",
       "      <th>7</th>\n",
       "      <td>svm</td>\n",
       "      <td>0.874530</td>\n",
       "      <td>0.005898</td>\n",
       "    </tr>\n",
       "    <tr>\n",
       "      <th>8</th>\n",
       "      <td>tree</td>\n",
       "      <td>0.911163</td>\n",
       "      <td>0.006199</td>\n",
       "    </tr>\n",
       "    <tr>\n",
       "      <th>9</th>\n",
       "      <td>xgb</td>\n",
       "      <td>0.916738</td>\n",
       "      <td>0.004819</td>\n",
       "    </tr>\n",
       "    <tr>\n",
       "      <th>10</th>\n",
       "      <td>rfc</td>\n",
       "      <td>0.921083</td>\n",
       "      <td>0.003345</td>\n",
       "    </tr>\n",
       "  </tbody>\n",
       "</table>\n",
       "</div>"
      ],
      "text/plain": [
       "       Model     Score       Std\n",
       "0        sgd  0.708949  0.005087\n",
       "1     Logreg  0.710976  0.004560\n",
       "2     quadra  0.717780  0.023295\n",
       "3      naive  0.718289  0.005874\n",
       "4   adaboost  0.836519  0.009835\n",
       "5        gbc  0.853823  0.008733\n",
       "6        knn  0.864466  0.003989\n",
       "7        svm  0.874530  0.005898\n",
       "8       tree  0.911163  0.006199\n",
       "9        xgb  0.916738  0.004819\n",
       "10       rfc  0.921083  0.003345"
      ]
     },
     "execution_count": 108,
     "metadata": {},
     "output_type": "execute_result"
    }
   ],
   "source": [
    "score_df_floor"
   ]
  },
  {
   "cell_type": "code",
   "execution_count": 109,
   "metadata": {},
   "outputs": [
    {
     "data": {
      "text/plain": [
       "<AxesSubplot:ylabel='Model'>"
      ]
     },
     "execution_count": 109,
     "metadata": {},
     "output_type": "execute_result"
    },
    {
     "data": {
      "image/png": "[encoded data removed]",
      "text/plain": [
       "<Figure size 432x288 with 1 Axes>"
      ]
     },
     "metadata": {
      "needs_background": "light"
     },
     "output_type": "display_data"
    }
   ],
   "source": [
    "score_df_floor.plot(kind='barh', x='Model', y='Score')"
   ]
  },
  {
   "cell_type": "markdown",
   "metadata": {},
   "source": [
    "The original dataset performs the best. The three most promising models are Random Forest, Xgboost and Decision Tree."
   ]
  },
  {
   "cell_type": "markdown",
   "metadata": {},
   "source": [
    "# Tune Random Forest Classifier using the original dataset"
   ]
  },
  {
   "cell_type": "code",
   "execution_count": 114,
   "metadata": {},
   "outputs": [],
   "source": [
    "num_pipeline = Pipeline([\n",
    "    ('scale', StandardScaler())\n",
    "])\n",
    "\n",
    "cat_pipeline = Pipeline([\n",
    "    ('encode', OneHotEncoder())\n",
    "])\n",
    "\n",
    "from sklearn.compose import ColumnTransformer\n",
    "num_attribs = list(num)\n",
    "cat_attribs = ['day_of_week', 'room']\n",
    "full_pipeline = ColumnTransformer([\n",
    "    ('num', num_pipeline, num_attribs),\n",
    "    ('cat', cat_pipeline, cat_attribs)\n",
    "])"
   ]
  },
  {
   "cell_type": "code",
   "execution_count": 115,
   "metadata": {},
   "outputs": [],
   "source": [
    "X_train_prepared = full_pipeline.fit_transform(X_train)"
   ]
  },
  {
   "cell_type": "code",
   "execution_count": 117,
   "metadata": {},
   "outputs": [
    {
     "data": {
      "text/html": [
       "<style>#sk-container-id-3 {color: black;background-color: white;}#sk-container-id-3 pre{padding: 0;}#sk-container-id-3 div.sk-toggleable {background-color: white;}#sk-container-id-3 label.sk-toggleable__label {cursor: pointer;display: block;width: 100%;margin-bottom: 0;padding: 0.3em;box-sizing: border-box;text-align: center;}#sk-container-id-3 label.sk-toggleable__label-arrow:before {content: \"▸\";float: left;margin-right: 0.25em;color: #696969;}#sk-container-id-3 label.sk-toggleable__label-arrow:hover:before {color: black;}#sk-container-id-3 div.sk-estimator:hover label.sk-toggleable__label-arrow:before {color: black;}#sk-container-id-3 div.sk-toggleable__content {max-height: 0;max-width: 0;overflow: hidden;text-align: left;background-color: #f0f8ff;}#sk-container-id-3 div.sk-toggleable__content pre {margin: 0.2em;color: black;border-radius: 0.25em;background-color: #f0f8ff;}#sk-container-id-3 input.sk-toggleable__control:checked~div.sk-toggleable__content {max-height: 200px;max-width: 100%;overflow: auto;}#sk-container-id-3 input.sk-toggleable__control:checked~label.sk-toggleable__label-arrow:before {content: \"▾\";}#sk-container-id-3 div.sk-estimator input.sk-toggleable__control:checked~label.sk-toggleable__label {background-color: #d4ebff;}#sk-container-id-3 div.sk-label input.sk-toggleable__control:checked~label.sk-toggleable__label {background-color: #d4ebff;}#sk-container-id-3 input.sk-hidden--visually {border: 0;clip: rect(1px 1px 1px 1px);clip: rect(1px, 1px, 1px, 1px);height: 1px;margin: -1px;overflow: hidden;padding: 0;position: absolute;width: 1px;}#sk-container-id-3 div.sk-estimator {font-family: monospace;background-color: #f0f8ff;border: 1px dotted black;border-radius: 0.25em;box-sizing: border-box;margin-bottom: 0.5em;}#sk-container-id-3 div.sk-estimator:hover {background-color: #d4ebff;}#sk-container-id-3 div.sk-parallel-item::after {content: \"\";width: 100%;border-bottom: 1px solid gray;flex-grow: 1;}#sk-container-id-3 div.sk-label:hover label.sk-toggleable__label {background-color: #d4ebff;}#sk-container-id-3 div.sk-serial::before {content: \"\";position: absolute;border-left: 1px solid gray;box-sizing: border-box;top: 0;bottom: 0;left: 50%;z-index: 0;}#sk-container-id-3 div.sk-serial {display: flex;flex-direction: column;align-items: center;background-color: white;padding-right: 0.2em;padding-left: 0.2em;position: relative;}#sk-container-id-3 div.sk-item {position: relative;z-index: 1;}#sk-container-id-3 div.sk-parallel {display: flex;align-items: stretch;justify-content: center;background-color: white;position: relative;}#sk-container-id-3 div.sk-item::before, #sk-container-id-3 div.sk-parallel-item::before {content: \"\";position: absolute;border-left: 1px solid gray;box-sizing: border-box;top: 0;bottom: 0;left: 50%;z-index: -1;}#sk-container-id-3 div.sk-parallel-item {display: flex;flex-direction: column;z-index: 1;position: relative;background-color: white;}#sk-container-id-3 div.sk-parallel-item:first-child::after {align-self: flex-end;width: 50%;}#sk-container-id-3 div.sk-parallel-item:last-child::after {align-self: flex-start;width: 50%;}#sk-container-id-3 div.sk-parallel-item:only-child::after {width: 0;}#sk-container-id-3 div.sk-dashed-wrapped {border: 1px dashed gray;margin: 0 0.4em 0.5em 0.4em;box-sizing: border-box;padding-bottom: 0.4em;background-color: white;}#sk-container-id-3 div.sk-label label {font-family: monospace;font-weight: bold;display: inline-block;line-height: 1.2em;}#sk-container-id-3 div.sk-label-container {text-align: center;}#sk-container-id-3 div.sk-container {/* jupyter's `normalize.less` sets `[hidden] { display: none; }` but bootstrap.min.css set `[hidden] { display: none !important; }` so we also need the `!important` here to be able to override the default hidden behavior on the sphinx rendered scikit-learn.org. See: https://github.com/scikit-learn/scikit-learn/issues/21755 */display: inline-block !important;position: relative;}#sk-container-id-3 div.sk-text-repr-fallback {display: none;}</style><div id=\"sk-container-id-3\" class=\"sk-top-container\"><div class=\"sk-text-repr-fallback\"><pre>GridSearchCV(cv=5, estimator=RandomForestClassifier(),\n",
       "             param_grid=[{&#x27;bootstrap&#x27;: [True, False],\n",
       "                          &#x27;max_depth&#x27;: [10, 30, 50, 100],\n",
       "                          &#x27;max_features&#x27;: [&#x27;log2&#x27;, &#x27;sqrt&#x27;],\n",
       "                          &#x27;n_estimators&#x27;: [10, 50, 100]}],\n",
       "             return_train_score=True, scoring=&#x27;accuracy&#x27;)</pre><b>In a Jupyter environment, please rerun this cell to show the HTML representation or trust the notebook. <br />On GitHub, the HTML representation is unable to render, please try loading this page with nbviewer.org.</b></div><div class=\"sk-container\" hidden><div class=\"sk-item sk-dashed-wrapped\"><div class=\"sk-label-container\"><div class=\"sk-label sk-toggleable\"><input class=\"sk-toggleable__control sk-hidden--visually\" id=\"sk-estimator-id-10\" type=\"checkbox\" ><label for=\"sk-estimator-id-10\" class=\"sk-toggleable__label sk-toggleable__label-arrow\">GridSearchCV</label><div class=\"sk-toggleable__content\"><pre>GridSearchCV(cv=5, estimator=RandomForestClassifier(),\n",
       "             param_grid=[{&#x27;bootstrap&#x27;: [True, False],\n",
       "                          &#x27;max_depth&#x27;: [10, 30, 50, 100],\n",
       "                          &#x27;max_features&#x27;: [&#x27;log2&#x27;, &#x27;sqrt&#x27;],\n",
       "                          &#x27;n_estimators&#x27;: [10, 50, 100]}],\n",
       "             return_train_score=True, scoring=&#x27;accuracy&#x27;)</pre></div></div></div><div class=\"sk-parallel\"><div class=\"sk-parallel-item\"><div class=\"sk-item\"><div class=\"sk-label-container\"><div class=\"sk-label sk-toggleable\"><input class=\"sk-toggleable__control sk-hidden--visually\" id=\"sk-estimator-id-11\" type=\"checkbox\" ><label for=\"sk-estimator-id-11\" class=\"sk-toggleable__label sk-toggleable__label-arrow\">estimator: RandomForestClassifier</label><div class=\"sk-toggleable__content\"><pre>RandomForestClassifier()</pre></div></div></div><div class=\"sk-serial\"><div class=\"sk-item\"><div class=\"sk-estimator sk-toggleable\"><input class=\"sk-toggleable__control sk-hidden--visually\" id=\"sk-estimator-id-12\" type=\"checkbox\" ><label for=\"sk-estimator-id-12\" class=\"sk-toggleable__label sk-toggleable__label-arrow\">RandomForestClassifier</label><div class=\"sk-toggleable__content\"><pre>RandomForestClassifier()</pre></div></div></div></div></div></div></div></div></div></div>"
      ],
      "text/plain": [
       "GridSearchCV(cv=5, estimator=RandomForestClassifier(),\n",
       "             param_grid=[{'bootstrap': [True, False],\n",
       "                          'max_depth': [10, 30, 50, 100],\n",
       "                          'max_features': ['log2', 'sqrt'],\n",
       "                          'n_estimators': [10, 50, 100]}],\n",
       "             return_train_score=True, scoring='accuracy')"
      ]
     },
     "execution_count": 117,
     "metadata": {},
     "output_type": "execute_result"
    }
   ],
   "source": [
    "# We will tune the three models\n",
    "from sklearn.model_selection import GridSearchCV\n",
    "# Random Forest Classifier\n",
    "rfc = RandomForestClassifier()\n",
    "param_grid = [{\n",
    "    'bootstrap': [True, False],\n",
    "    'max_depth': [10, 30, 50, 100],\n",
    "    'max_features': ['log2', 'sqrt'],\n",
    "    'n_estimators': [10, 50, 100]\n",
    "}]\n",
    "grid_search = GridSearchCV(rfc, param_grid, cv = 5, scoring='accuracy', return_train_score=True)\n",
    "grid_search.fit(X_train_prepared, y_train)"
   ]
  },
  {
   "cell_type": "code",
   "execution_count": 118,
   "metadata": {},
   "outputs": [
    {
     "data": {
      "text/plain": [
       "{'bootstrap': True,\n",
       " 'max_depth': 30,\n",
       " 'max_features': 'sqrt',\n",
       " 'n_estimators': 100}"
      ]
     },
     "execution_count": 118,
     "metadata": {},
     "output_type": "execute_result"
    }
   ],
   "source": [
    "grid_search.best_params_"
   ]
  },
  {
   "cell_type": "code",
   "execution_count": 119,
   "metadata": {},
   "outputs": [],
   "source": [
    "X_test_prepared = full_pipeline.transform(X_test)"
   ]
  },
  {
   "cell_type": "code",
   "execution_count": 120,
   "metadata": {},
   "outputs": [
    {
     "name": "stdout",
     "output_type": "stream",
     "text": [
      "[[2640   74]\n",
      " [ 196 1695]]\n",
      "              precision    recall  f1-score   support\n",
      "\n",
      "           0       0.93      0.97      0.95      2714\n",
      "           1       0.96      0.90      0.93      1891\n",
      "\n",
      "    accuracy                           0.94      4605\n",
      "   macro avg       0.94      0.93      0.94      4605\n",
      "weighted avg       0.94      0.94      0.94      4605\n",
      "\n"
     ]
    }
   ],
   "source": [
    "from sklearn.metrics import confusion_matrix, classification_report\n",
    "predictions = grid_search.predict(X_test_prepared)\n",
    "print(confusion_matrix(y_test, predictions))\n",
    "print(classification_report(y_test, predictions))"
   ]
  },
  {
   "cell_type": "code",
   "execution_count": 121,
   "metadata": {},
   "outputs": [
    {
     "name": "stdout",
     "output_type": "stream",
     "text": [
      "0.9413680781758957\n"
     ]
    }
   ],
   "source": [
    "from sklearn.metrics import accuracy_score\n",
    "print(accuracy_score(y_test, predictions))"
   ]
  }
 ],
 "metadata": {
  "kernelspec": {
   "display_name": "Python 3.9.13 ('DataScience')",
   "language": "python",
   "name": "python3"
  },
  "language_info": {
   "codemirror_mode": {
    "name": "ipython",
    "version": 3
   },
   "file_extension": ".py",
   "mimetype": "text/x-python",
   "name": "python",
   "nbconvert_exporter": "python",
   "pygments_lexer": "ipython3",
   "version": "3.9.13"
  },
  "orig_nbformat": 4,
  "vscode": {
   "interpreter": {
    "hash": "8fee812e92be6d43105d89d6d57d29ecdac35123cd780b21663a6b1ed2bf84e6"
   }
  }
 },
 "nbformat": 4,
 "nbformat_minor": 2
}
